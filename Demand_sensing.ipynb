{
  "cells": [
    {
      "cell_type": "markdown",
      "metadata": {
        "id": "hx-8mEMlNtiq"
      },
      "source": [
        "# Demand Sensing on Instacart Dataset using Ensemble Models\n",
        "\n",
        "## Project Goal\n",
        "Predict product reorder likelihood using the Instacart Online Grocery Basket dataset. This project uses ensemble models and includes exhaustive feature engineering, model interpretation with SHAP, and business insights.\n"
      ]
    },
    {
      "cell_type": "markdown",
      "metadata": {
        "id": "-X2YR5rqOm6d"
      },
      "source": [
        "Step 1: Importing Packages and Datasets"
      ]
    },
    {
      "cell_type": "code",
      "execution_count": 2,
      "metadata": {
        "id": "iKbJBjmkOBZ4"
      },
      "outputs": [],
      "source": [
        "# Data Handling\n",
        "import pandas as pd\n",
        "import numpy as np\n",
        "\n",
        "# Visualization\n",
        "import matplotlib.pyplot as plt\n",
        "import seaborn as sns\n",
        "%matplotlib inline\n",
        "\n",
        "# Warnings\n",
        "import warnings\n",
        "warnings.filterwarnings('ignore')\n",
        "\n",
        "# File system & display\n",
        "import os\n",
        "pd.set_option('display.max_columns', None)\n",
        "\n",
        "#Model Implementation with Undersampling and Ensembles\n",
        "from sklearn.model_selection import train_test_split\n",
        "from sklearn.utils import resample\n",
        "from sklearn.ensemble import RandomForestClassifier, VotingClassifier, StackingClassifier\n",
        "from sklearn.linear_model import LogisticRegression\n",
        "from xgboost import XGBClassifier\n",
        "from sklearn.metrics import classification_report, roc_auc_score\n",
        "from sklearn.metrics import confusion_matrix, roc_curve, auc, precision_score, recall_score, f1_score, roc_auc_score\n",
        "\n",
        "#Hyperparameter tuning\n",
        "from sklearn.model_selection import RandomizedSearchCV\n",
        "from sklearn.ensemble import RandomForestClassifier\n",
        "from sklearn.metrics import classification_report\n",
        "\n",
        "#SHAP\n",
        "import shap\n",
        "\n",
        "#Customer segmentation\n",
        "from sklearn.preprocessing import StandardScaler\n",
        "from sklearn.decomposition import PCA\n",
        "from sklearn.cluster import KMeans"
      ]
    },
    {
      "cell_type": "code",
      "execution_count": 3,
      "metadata": {
        "id": "_GRwdIl3Op0y"
      },
      "outputs": [],
      "source": [
        "# Load all CSVs\n",
        "orders = pd.read_csv('C:\\\\Users\\\\princ\\\\Downloads\\\\Demand Sensing\\\\Instacart_dataset\\\\orders.csv')\n",
        "products = pd.read_csv('C:\\\\Users\\\\princ\\\\Downloads\\\\Demand Sensing\\\\Instacart_dataset\\\\products.csv')\n",
        "order_products_prior = pd.read_csv('C:\\\\Users\\\\princ\\\\Downloads\\\\Demand Sensing\\\\Instacart_dataset\\\\order_products__prior.csv')\n",
        "order_products_train = pd.read_csv('C:\\\\Users\\\\princ\\\\Downloads\\\\Demand Sensing\\\\Instacart_dataset\\\\order_products__train.csv')\n",
        "aisles = pd.read_csv('C:\\\\Users\\\\princ\\\\Downloads\\\\Demand Sensing\\\\Instacart_dataset\\\\aisles.csv')\n",
        "departments = pd.read_csv('C:\\\\Users\\\\princ\\\\Downloads\\\\Demand Sensing\\\\Instacart_dataset\\\\departments.csv')"
      ]
    },
    {
      "cell_type": "markdown",
      "metadata": {
        "id": "4lgSbiPVO-zS"
      },
      "source": [
        "Step 2: Initial Exploratory Data Analysis (EDA)"
      ]
    },
    {
      "cell_type": "code",
      "execution_count": 4,
      "metadata": {
        "colab": {
          "base_uri": "https://localhost:8080/"
        },
        "id": "K1D_rzLJO9dx",
        "outputId": "c0da4ab2-fdc7-48ff-8574-df9a99945b96"
      },
      "outputs": [
        {
          "name": "stdout",
          "output_type": "stream",
          "text": [
            "Orders: (3421083, 7)\n",
            "Products: (49688, 4)\n",
            "Order Products (Prior): (32434489, 4)\n",
            "Order Products (Train): (1384617, 4)\n",
            "Aisles: (134, 2)\n",
            "Departments: (21, 2)\n"
          ]
        }
      ],
      "source": [
        "# Dataset dimensions\n",
        "print(\"Orders:\", orders.shape)\n",
        "print(\"Products:\", products.shape)\n",
        "print(\"Order Products (Prior):\", order_products_prior.shape)\n",
        "print(\"Order Products (Train):\", order_products_train.shape)\n",
        "print(\"Aisles:\", aisles.shape)\n",
        "print(\"Departments:\", departments.shape)"
      ]
    },
    {
      "cell_type": "code",
      "execution_count": 5,
      "metadata": {
        "colab": {
          "base_uri": "https://localhost:8080/",
          "height": 206
        },
        "id": "7_xrkbRyPDae",
        "outputId": "c7cd45f6-e647-493f-ba0c-7371c8ff2543"
      },
      "outputs": [
        {
          "data": {
            "text/html": [
              "<div>\n",
              "<style scoped>\n",
              "    .dataframe tbody tr th:only-of-type {\n",
              "        vertical-align: middle;\n",
              "    }\n",
              "\n",
              "    .dataframe tbody tr th {\n",
              "        vertical-align: top;\n",
              "    }\n",
              "\n",
              "    .dataframe thead th {\n",
              "        text-align: right;\n",
              "    }\n",
              "</style>\n",
              "<table border=\"1\" class=\"dataframe\">\n",
              "  <thead>\n",
              "    <tr style=\"text-align: right;\">\n",
              "      <th></th>\n",
              "      <th>order_id</th>\n",
              "      <th>user_id</th>\n",
              "      <th>eval_set</th>\n",
              "      <th>order_number</th>\n",
              "      <th>order_dow</th>\n",
              "      <th>order_hour_of_day</th>\n",
              "      <th>days_since_prior_order</th>\n",
              "    </tr>\n",
              "  </thead>\n",
              "  <tbody>\n",
              "    <tr>\n",
              "      <th>0</th>\n",
              "      <td>2539329</td>\n",
              "      <td>1</td>\n",
              "      <td>prior</td>\n",
              "      <td>1</td>\n",
              "      <td>2</td>\n",
              "      <td>8</td>\n",
              "      <td>NaN</td>\n",
              "    </tr>\n",
              "    <tr>\n",
              "      <th>1</th>\n",
              "      <td>2398795</td>\n",
              "      <td>1</td>\n",
              "      <td>prior</td>\n",
              "      <td>2</td>\n",
              "      <td>3</td>\n",
              "      <td>7</td>\n",
              "      <td>15.0</td>\n",
              "    </tr>\n",
              "    <tr>\n",
              "      <th>2</th>\n",
              "      <td>473747</td>\n",
              "      <td>1</td>\n",
              "      <td>prior</td>\n",
              "      <td>3</td>\n",
              "      <td>3</td>\n",
              "      <td>12</td>\n",
              "      <td>21.0</td>\n",
              "    </tr>\n",
              "    <tr>\n",
              "      <th>3</th>\n",
              "      <td>2254736</td>\n",
              "      <td>1</td>\n",
              "      <td>prior</td>\n",
              "      <td>4</td>\n",
              "      <td>4</td>\n",
              "      <td>7</td>\n",
              "      <td>29.0</td>\n",
              "    </tr>\n",
              "    <tr>\n",
              "      <th>4</th>\n",
              "      <td>431534</td>\n",
              "      <td>1</td>\n",
              "      <td>prior</td>\n",
              "      <td>5</td>\n",
              "      <td>4</td>\n",
              "      <td>15</td>\n",
              "      <td>28.0</td>\n",
              "    </tr>\n",
              "  </tbody>\n",
              "</table>\n",
              "</div>"
            ],
            "text/plain": [
              "   order_id  user_id eval_set  order_number  order_dow  order_hour_of_day  \\\n",
              "0   2539329        1    prior             1          2                  8   \n",
              "1   2398795        1    prior             2          3                  7   \n",
              "2    473747        1    prior             3          3                 12   \n",
              "3   2254736        1    prior             4          4                  7   \n",
              "4    431534        1    prior             5          4                 15   \n",
              "\n",
              "   days_since_prior_order  \n",
              "0                     NaN  \n",
              "1                    15.0  \n",
              "2                    21.0  \n",
              "3                    29.0  \n",
              "4                    28.0  "
            ]
          },
          "execution_count": 5,
          "metadata": {},
          "output_type": "execute_result"
        }
      ],
      "source": [
        "# Display first few rows\n",
        "orders.head()"
      ]
    },
    {
      "cell_type": "code",
      "execution_count": 6,
      "metadata": {
        "colab": {
          "base_uri": "https://localhost:8080/",
          "height": 206
        },
        "id": "HVlomUgWPG1f",
        "outputId": "eda91e13-5ca6-40f9-8abc-408d44080275"
      },
      "outputs": [
        {
          "data": {
            "text/html": [
              "<div>\n",
              "<style scoped>\n",
              "    .dataframe tbody tr th:only-of-type {\n",
              "        vertical-align: middle;\n",
              "    }\n",
              "\n",
              "    .dataframe tbody tr th {\n",
              "        vertical-align: top;\n",
              "    }\n",
              "\n",
              "    .dataframe thead th {\n",
              "        text-align: right;\n",
              "    }\n",
              "</style>\n",
              "<table border=\"1\" class=\"dataframe\">\n",
              "  <thead>\n",
              "    <tr style=\"text-align: right;\">\n",
              "      <th></th>\n",
              "      <th>product_id</th>\n",
              "      <th>product_name</th>\n",
              "      <th>aisle_id</th>\n",
              "      <th>department_id</th>\n",
              "    </tr>\n",
              "  </thead>\n",
              "  <tbody>\n",
              "    <tr>\n",
              "      <th>0</th>\n",
              "      <td>1</td>\n",
              "      <td>Chocolate Sandwich Cookies</td>\n",
              "      <td>61</td>\n",
              "      <td>19</td>\n",
              "    </tr>\n",
              "    <tr>\n",
              "      <th>1</th>\n",
              "      <td>2</td>\n",
              "      <td>All-Seasons Salt</td>\n",
              "      <td>104</td>\n",
              "      <td>13</td>\n",
              "    </tr>\n",
              "    <tr>\n",
              "      <th>2</th>\n",
              "      <td>3</td>\n",
              "      <td>Robust Golden Unsweetened Oolong Tea</td>\n",
              "      <td>94</td>\n",
              "      <td>7</td>\n",
              "    </tr>\n",
              "    <tr>\n",
              "      <th>3</th>\n",
              "      <td>4</td>\n",
              "      <td>Smart Ones Classic Favorites Mini Rigatoni Wit...</td>\n",
              "      <td>38</td>\n",
              "      <td>1</td>\n",
              "    </tr>\n",
              "    <tr>\n",
              "      <th>4</th>\n",
              "      <td>5</td>\n",
              "      <td>Green Chile Anytime Sauce</td>\n",
              "      <td>5</td>\n",
              "      <td>13</td>\n",
              "    </tr>\n",
              "  </tbody>\n",
              "</table>\n",
              "</div>"
            ],
            "text/plain": [
              "   product_id                                       product_name  aisle_id  \\\n",
              "0           1                         Chocolate Sandwich Cookies        61   \n",
              "1           2                                   All-Seasons Salt       104   \n",
              "2           3               Robust Golden Unsweetened Oolong Tea        94   \n",
              "3           4  Smart Ones Classic Favorites Mini Rigatoni Wit...        38   \n",
              "4           5                          Green Chile Anytime Sauce         5   \n",
              "\n",
              "   department_id  \n",
              "0             19  \n",
              "1             13  \n",
              "2              7  \n",
              "3              1  \n",
              "4             13  "
            ]
          },
          "execution_count": 6,
          "metadata": {},
          "output_type": "execute_result"
        }
      ],
      "source": [
        "products.head()"
      ]
    },
    {
      "cell_type": "code",
      "execution_count": 7,
      "metadata": {
        "colab": {
          "base_uri": "https://localhost:8080/",
          "height": 206
        },
        "id": "fbnRqmf2PKWZ",
        "outputId": "90fc463b-784e-4063-beca-e6a838d309a9"
      },
      "outputs": [
        {
          "data": {
            "text/html": [
              "<div>\n",
              "<style scoped>\n",
              "    .dataframe tbody tr th:only-of-type {\n",
              "        vertical-align: middle;\n",
              "    }\n",
              "\n",
              "    .dataframe tbody tr th {\n",
              "        vertical-align: top;\n",
              "    }\n",
              "\n",
              "    .dataframe thead th {\n",
              "        text-align: right;\n",
              "    }\n",
              "</style>\n",
              "<table border=\"1\" class=\"dataframe\">\n",
              "  <thead>\n",
              "    <tr style=\"text-align: right;\">\n",
              "      <th></th>\n",
              "      <th>order_id</th>\n",
              "      <th>product_id</th>\n",
              "      <th>add_to_cart_order</th>\n",
              "      <th>reordered</th>\n",
              "    </tr>\n",
              "  </thead>\n",
              "  <tbody>\n",
              "    <tr>\n",
              "      <th>0</th>\n",
              "      <td>2</td>\n",
              "      <td>33120</td>\n",
              "      <td>1</td>\n",
              "      <td>1</td>\n",
              "    </tr>\n",
              "    <tr>\n",
              "      <th>1</th>\n",
              "      <td>2</td>\n",
              "      <td>28985</td>\n",
              "      <td>2</td>\n",
              "      <td>1</td>\n",
              "    </tr>\n",
              "    <tr>\n",
              "      <th>2</th>\n",
              "      <td>2</td>\n",
              "      <td>9327</td>\n",
              "      <td>3</td>\n",
              "      <td>0</td>\n",
              "    </tr>\n",
              "    <tr>\n",
              "      <th>3</th>\n",
              "      <td>2</td>\n",
              "      <td>45918</td>\n",
              "      <td>4</td>\n",
              "      <td>1</td>\n",
              "    </tr>\n",
              "    <tr>\n",
              "      <th>4</th>\n",
              "      <td>2</td>\n",
              "      <td>30035</td>\n",
              "      <td>5</td>\n",
              "      <td>0</td>\n",
              "    </tr>\n",
              "  </tbody>\n",
              "</table>\n",
              "</div>"
            ],
            "text/plain": [
              "   order_id  product_id  add_to_cart_order  reordered\n",
              "0         2       33120                  1          1\n",
              "1         2       28985                  2          1\n",
              "2         2        9327                  3          0\n",
              "3         2       45918                  4          1\n",
              "4         2       30035                  5          0"
            ]
          },
          "execution_count": 7,
          "metadata": {},
          "output_type": "execute_result"
        }
      ],
      "source": [
        "order_products_prior.head()"
      ]
    },
    {
      "cell_type": "code",
      "execution_count": 8,
      "metadata": {
        "colab": {
          "base_uri": "https://localhost:8080/"
        },
        "id": "Q71_x27lPRPb",
        "outputId": "45c97ba1-ab1c-4656-8201-ca7c420a8b13"
      },
      "outputs": [
        {
          "name": "stdout",
          "output_type": "stream",
          "text": [
            "orders missing values:\n",
            "order_id                       0\n",
            "user_id                        0\n",
            "eval_set                       0\n",
            "order_number                   0\n",
            "order_dow                      0\n",
            "order_hour_of_day              0\n",
            "days_since_prior_order    206209\n",
            "dtype: int64\n",
            "\n",
            "products missing values:\n",
            "product_id       0\n",
            "product_name     0\n",
            "aisle_id         0\n",
            "department_id    0\n",
            "dtype: int64\n",
            "\n",
            "order_products_prior missing values:\n",
            "order_id             0\n",
            "product_id           0\n",
            "add_to_cart_order    0\n",
            "reordered            0\n",
            "dtype: int64\n",
            "\n",
            "order_products_train missing values:\n",
            "order_id             0\n",
            "product_id           0\n",
            "add_to_cart_order    0\n",
            "reordered            0\n",
            "dtype: int64\n",
            "\n",
            "aisles missing values:\n",
            "aisle_id    0\n",
            "aisle       0\n",
            "dtype: int64\n",
            "\n",
            "departments missing values:\n",
            "department_id    0\n",
            "department       0\n",
            "dtype: int64\n",
            "\n"
          ]
        }
      ],
      "source": [
        "# Missing values check\n",
        "for name, df in zip(\n",
        "    ['orders', 'products', 'order_products_prior', 'order_products_train', 'aisles', 'departments'],\n",
        "    [orders, products, order_products_prior, order_products_train, aisles, departments]\n",
        "):\n",
        "    print(f\"{name} missing values:\\n{df.isnull().sum()}\\n\")"
      ]
    },
    {
      "cell_type": "code",
      "execution_count": 9,
      "metadata": {
        "colab": {
          "base_uri": "https://localhost:8080/",
          "height": 210
        },
        "id": "2U4V9QSMPT3C",
        "outputId": "c4650dfb-48c0-4667-8d5a-6513ddf97bd9"
      },
      "outputs": [
        {
          "data": {
            "text/plain": [
              "prior    3214874\n",
              "train     131209\n",
              "test       75000\n",
              "Name: eval_set, dtype: int64"
            ]
          },
          "execution_count": 9,
          "metadata": {},
          "output_type": "execute_result"
        }
      ],
      "source": [
        "#Order Statistics\n",
        "orders['eval_set'].value_counts()"
      ]
    },
    {
      "cell_type": "code",
      "execution_count": 10,
      "metadata": {
        "colab": {
          "base_uri": "https://localhost:8080/"
        },
        "id": "fhFR94BzPajr",
        "outputId": "bdcf43bb-ba90-42be-f752-5f2b95e16a4b"
      },
      "outputs": [
        {
          "name": "stdout",
          "output_type": "stream",
          "text": [
            "Overall reorder rate: 0.59\n"
          ]
        }
      ],
      "source": [
        "# Overall reorder rate\n",
        "reorder_rate = order_products_prior['reordered'].mean()\n",
        "print(f\"Overall reorder rate: {reorder_rate:.2f}\")"
      ]
    },
    {
      "cell_type": "code",
      "execution_count": 11,
      "metadata": {
        "colab": {
          "base_uri": "https://localhost:8080/"
        },
        "id": "1GVxIx3TPfJl",
        "outputId": "96c02285-817f-4455-beb1-66fef69ee0a4"
      },
      "outputs": [
        {
          "name": "stdout",
          "output_type": "stream",
          "text": [
            "Unique users: 206209\n",
            "Unique products: 49688\n",
            "Unique aisles: 134\n",
            "Unique departments: 21\n"
          ]
        }
      ],
      "source": [
        "print(\"Unique users:\", orders['user_id'].nunique())\n",
        "print(\"Unique products:\", products['product_id'].nunique())\n",
        "print(\"Unique aisles:\", aisles['aisle_id'].nunique())\n",
        "print(\"Unique departments:\", departments['department_id'].nunique())"
      ]
    },
    {
      "cell_type": "markdown",
      "metadata": {
        "id": "oeiFPkaMPvMv"
      },
      "source": [
        "Step 3: Data Cleaning\n",
        "\n",
        "Objective\n",
        "Ensure all datasets are clean and ready for merging and feature engineering:\n",
        "\n",
        "- Remove irrelevant columns\n",
        "- Handle missing or incorrect values\n",
        "- Optimize datatypes\n",
        "- Prepare for merging"
      ]
    },
    {
      "cell_type": "code",
      "execution_count": 12,
      "metadata": {
        "colab": {
          "base_uri": "https://localhost:8080/",
          "height": 304
        },
        "id": "lqRzKJiFPiX9",
        "outputId": "433ee147-d305-4b83-d4fe-2ab04be9a276"
      },
      "outputs": [
        {
          "data": {
            "text/plain": [
              "order_id                       0\n",
              "user_id                        0\n",
              "eval_set                       0\n",
              "order_number                   0\n",
              "order_dow                      0\n",
              "order_hour_of_day              0\n",
              "days_since_prior_order    206209\n",
              "dtype: int64"
            ]
          },
          "execution_count": 12,
          "metadata": {},
          "output_type": "execute_result"
        }
      ],
      "source": [
        "# Check for missing values\n",
        "orders.isnull().sum()"
      ]
    },
    {
      "cell_type": "code",
      "execution_count": 44,
      "metadata": {
        "id": "wZaUYF5vQC_i"
      },
      "outputs": [],
      "source": [
        "# Convert days_since_prior_order to 0 for first order (NaN → 0)\n",
        "orders['days_since_prior_order'] = orders['days_since_prior_order'].fillna(0).astype(np.int8)\n",
        "\n",
        "# Optimize dtypes\n",
        "orders['order_dow'] = orders['order_dow'].astype(np.int8)\n",
        "orders['order_hour_of_day'] = orders['order_hour_of_day'].astype(np.int8)\n",
        "orders['order_number'] = orders['order_number'].astype(np.int16)\n",
        "orders['user_id'] = orders['user_id'].astype(np.int32)\n",
        "orders['order_id'] = orders['order_id'].astype(np.int32)"
      ]
    },
    {
      "cell_type": "code",
      "execution_count": 14,
      "metadata": {
        "colab": {
          "base_uri": "https://localhost:8080/",
          "height": 210
        },
        "id": "MNn_xmBBQFFE",
        "outputId": "d6b532c0-d255-4be0-c954-8bd965c90c95"
      },
      "outputs": [
        {
          "data": {
            "text/plain": [
              "order_id             0\n",
              "product_id           0\n",
              "add_to_cart_order    0\n",
              "reordered            0\n",
              "dtype: int64"
            ]
          },
          "execution_count": 14,
          "metadata": {},
          "output_type": "execute_result"
        }
      ],
      "source": [
        "# Check for missing values\n",
        "order_products_prior.isnull().sum()\n",
        "order_products_train.isnull().sum()"
      ]
    },
    {
      "cell_type": "code",
      "execution_count": 15,
      "metadata": {
        "id": "Xco1PIYpQHi8"
      },
      "outputs": [],
      "source": [
        "# Optimize data types for memory efficiency\n",
        "for df in [order_products_prior, order_products_train]:\n",
        "    df['add_to_cart_order'] = df['add_to_cart_order'].astype(np.int16)\n",
        "    df['reordered'] = df['reordered'].astype(np.int8)\n",
        "    df['product_id'] = df['product_id'].astype(np.int32)\n",
        "    df['order_id'] = df['order_id'].astype(np.int32)"
      ]
    },
    {
      "cell_type": "code",
      "execution_count": 16,
      "metadata": {
        "id": "4AgYR_cgQJ7x"
      },
      "outputs": [],
      "source": [
        "# Merge product metadata\n",
        "product_details = products.merge(aisles, on='aisle_id', how='left') \\\n",
        "                          .merge(departments, on='department_id', how='left')\n",
        "\n",
        "# Clean column names\n",
        "product_details.rename(columns={\n",
        "    'aisle': 'aisle_name',\n",
        "    'department': 'department_name'\n",
        "}, inplace=True)\n",
        "\n",
        "# Optimize\n",
        "product_details['aisle_id'] = product_details['aisle_id'].astype(np.int8)\n",
        "product_details['department_id'] = product_details['department_id'].astype(np.int8)\n",
        "product_details['product_id'] = product_details['product_id'].astype(np.int32)"
      ]
    },
    {
      "cell_type": "markdown",
      "metadata": {
        "id": "Q0HbT9KOQvmy"
      },
      "source": [
        "Step 4: Visual Exploratory Data Analysis (EDA)\n",
        "\n",
        "Objective\n",
        "Visualize behavioral trends of users and products to:\n",
        "\n",
        "- Understand ordering patterns\n",
        "- Reveal seasonality or time effects\n",
        "- Spot which features might be important for predicting reorders"
      ]
    },
    {
      "cell_type": "code",
      "execution_count": 17,
      "metadata": {
        "colab": {
          "base_uri": "https://localhost:8080/",
          "height": 407
        },
        "id": "-ocvZ_m9QNzy",
        "outputId": "5251405b-f770-46b8-f613-be53534341c6"
      },
      "outputs": [
        {
          "data": {
            "image/png": "[encoded data removed]",
            "text/plain": [
              "<Figure size 576x288 with 1 Axes>"
            ]
          },
          "metadata": {
            "needs_background": "light"
          },
          "output_type": "display_data"
        }
      ],
      "source": [
        "#Orders by Day of Week\n",
        "plt.figure(figsize=(8,4))\n",
        "sns.countplot(data=orders, x='order_dow', palette='crest')\n",
        "plt.title('Orders by Day of the Week')\n",
        "plt.xlabel('Day of Week (0=Sunday)')\n",
        "plt.ylabel('Number of Orders')\n",
        "plt.tight_layout()\n",
        "plt.show()"
      ]
    },
    {
      "cell_type": "markdown",
      "metadata": {
        "id": "WtD--fqlRErl"
      },
      "source": [
        "Insight: Ordering spikes on days 0 and 1 — indicating weekend grocery habits."
      ]
    },
    {
      "cell_type": "code",
      "execution_count": 18,
      "metadata": {
        "colab": {
          "base_uri": "https://localhost:8080/",
          "height": 376
        },
        "id": "VRNn8Qa1Q7-c",
        "outputId": "ae50f83c-4043-4ba8-adb2-318ada7c7520"
      },
      "outputs": [
        {
          "data": {
            "image/png": "[encoded data removed]",
            "text/plain": [
              "<Figure size 720x288 with 1 Axes>"
            ]
          },
          "metadata": {
            "needs_background": "light"
          },
          "output_type": "display_data"
        }
      ],
      "source": [
        "#Orders by Hour of Day\n",
        "plt.figure(figsize=(10,4))\n",
        "sns.countplot(data=orders, x='order_hour_of_day', palette='viridis')\n",
        "plt.title('Orders by Hour of Day')\n",
        "plt.xlabel('Hour of Day')\n",
        "plt.ylabel('Number of Orders')\n",
        "plt.tight_layout()\n",
        "plt.show()"
      ]
    },
    {
      "cell_type": "markdown",
      "metadata": {
        "id": "uSuwFgrgRGIp"
      },
      "source": [
        "Insight: Most orders are placed between 8 AM and 5 PM — likely related to working hours or availability."
      ]
    },
    {
      "cell_type": "code",
      "execution_count": 19,
      "metadata": {
        "colab": {
          "base_uri": "https://localhost:8080/",
          "height": 407
        },
        "id": "oCQYHKVjRJm2",
        "outputId": "fb39b29e-6df4-4184-815c-65c8d774d466"
      },
      "outputs": [
        {
          "data": {
            "image/png": "[encoded data removed]",
            "text/plain": [
              "<Figure size 576x288 with 1 Axes>"
            ]
          },
          "metadata": {
            "needs_background": "light"
          },
          "output_type": "display_data"
        }
      ],
      "source": [
        "#Days Since Prior Order Distribution\n",
        "plt.figure(figsize=(8,4))\n",
        "sns.histplot(orders['days_since_prior_order'], bins=15, kde=False, color='coral')\n",
        "plt.title('Distribution of Days Since Prior Order')\n",
        "plt.xlabel('Days Since Prior Order')\n",
        "plt.ylabel('Number of Orders')\n",
        "plt.tight_layout()\n",
        "plt.show()"
      ]
    },
    {
      "cell_type": "markdown",
      "metadata": {
        "id": "yLMuO8GBROd_"
      },
      "source": [
        "Insight: Peaks at day 7 and 30 — showing strong weekly and monthly ordering cycles."
      ]
    },
    {
      "cell_type": "code",
      "execution_count": 20,
      "metadata": {
        "colab": {
          "base_uri": "https://localhost:8080/",
          "height": 560
        },
        "id": "0Bt-nyGoRYzC",
        "outputId": "8051d272-230c-486e-bd7b-828a7f2f6828"
      },
      "outputs": [
        {
          "data": {
            "image/png": "[encoded data removed]",
            "text/plain": [
              "<Figure size 720x432 with 1 Axes>"
            ]
          },
          "metadata": {
            "needs_background": "light"
          },
          "output_type": "display_data"
        }
      ],
      "source": [
        "#Top 15 Most Ordered Products\n",
        "top_products = order_products_prior['product_id'].value_counts().head(15).reset_index()\n",
        "top_products.columns = ['product_id', 'order_count']\n",
        "top_products = top_products.merge(products, on='product_id')\n",
        "\n",
        "plt.figure(figsize=(10,6))\n",
        "sns.barplot(data=top_products, y='product_name', x='order_count', palette='mako')\n",
        "plt.title('Top 15 Most Ordered Products')\n",
        "plt.xlabel('Order Count')\n",
        "plt.ylabel('Product')\n",
        "plt.tight_layout()\n",
        "plt.show()"
      ]
    },
    {
      "cell_type": "code",
      "execution_count": 21,
      "metadata": {
        "colab": {
          "base_uri": "https://localhost:8080/",
          "height": 559
        },
        "id": "ObfH6EaWRdPj",
        "outputId": "29c96dc0-d1a4-435b-f1dc-f1f09b824891"
      },
      "outputs": [
        {
          "data": {
            "image/png": "[encoded data removed]",
            "text/plain": [
              "<Figure size 720x432 with 1 Axes>"
            ]
          },
          "metadata": {
            "needs_background": "light"
          },
          "output_type": "display_data"
        }
      ],
      "source": [
        "#Reorder Rate by Product\n",
        "reorder_ratio = order_products_prior.groupby('product_id')['reordered'].mean().reset_index()\n",
        "reorder_ratio.columns = ['product_id', 'reorder_rate']\n",
        "top_reordered = reorder_ratio.merge(products, on='product_id') \\\n",
        "                             .sort_values(by='reorder_rate', ascending=False) \\\n",
        "                             .head(15)\n",
        "\n",
        "plt.figure(figsize=(10,6))\n",
        "sns.barplot(data=top_reordered, x='reorder_rate', y='product_name', palette='rocket')\n",
        "plt.title('Top 15 Products by Reorder Rate')\n",
        "plt.xlabel('Reorder Rate')\n",
        "plt.ylabel('Product')\n",
        "plt.tight_layout()\n",
        "plt.show()"
      ]
    },
    {
      "cell_type": "code",
      "execution_count": 22,
      "metadata": {
        "colab": {
          "base_uri": "https://localhost:8080/",
          "height": 407
        },
        "id": "XZw4LAsfRoP2",
        "outputId": "443befbf-6da9-47e5-9199-df6c1363722b"
      },
      "outputs": [
        {
          "data": {
            "image/png": "[encoded data removed]",
            "text/plain": [
              "<Figure size 576x288 with 1 Axes>"
            ]
          },
          "metadata": {
            "needs_background": "light"
          },
          "output_type": "display_data"
        }
      ],
      "source": [
        "# Average Cart Size per User\n",
        "cart_sizes = order_products_prior.groupby('order_id').size()\n",
        "plt.figure(figsize=(8,4))\n",
        "sns.histplot(cart_sizes, bins=40, kde=False, color='teal')\n",
        "plt.title('Average Cart Size Distribution')\n",
        "plt.xlabel('Items per Order')\n",
        "plt.ylabel('Number of Orders')\n",
        "plt.xlim(0, 80)\n",
        "plt.tight_layout()\n",
        "plt.show()"
      ]
    },
    {
      "cell_type": "markdown",
      "metadata": {
        "id": "HqQTT4USRy7A"
      },
      "source": [
        "Insight: Most baskets have <20 items. Outliers with 50+ could be worth exploring for fraud or bulk behavior."
      ]
    },
    {
      "cell_type": "markdown",
      "metadata": {
        "id": "mh7wujqLR6aJ"
      },
      "source": [
        "Step 5: Exhaustive Feature Engineering\n",
        "Objective\n",
        "Build rich, predictive features from:\n",
        "\n",
        "- User behavior\n",
        "- Product statistics\n",
        "- User-Product interactions"
      ]
    },
    {
      "cell_type": "code",
      "execution_count": 23,
      "metadata": {
        "id": "f9n_Kqu6R0di"
      },
      "outputs": [],
      "source": [
        "# Merge order + prior product details\n",
        "prior = order_products_prior.merge(orders, on='order_id', how='left')\n",
        "prior = prior.merge(product_details, on='product_id', how='left')"
      ]
    },
    {
      "cell_type": "code",
      "execution_count": 24,
      "metadata": {
        "colab": {
          "base_uri": "https://localhost:8080/",
          "height": 313
        },
        "id": "vL3fvgtWSJIL",
        "outputId": "59f60b14-b626-4169-9e0c-9b22b902c516"
      },
      "outputs": [
        {
          "data": {
            "text/html": [
              "<div>\n",
              "<style scoped>\n",
              "    .dataframe tbody tr th:only-of-type {\n",
              "        vertical-align: middle;\n",
              "    }\n",
              "\n",
              "    .dataframe tbody tr th {\n",
              "        vertical-align: top;\n",
              "    }\n",
              "\n",
              "    .dataframe thead th {\n",
              "        text-align: right;\n",
              "    }\n",
              "</style>\n",
              "<table border=\"1\" class=\"dataframe\">\n",
              "  <thead>\n",
              "    <tr style=\"text-align: right;\">\n",
              "      <th></th>\n",
              "      <th>order_id</th>\n",
              "      <th>product_id</th>\n",
              "      <th>add_to_cart_order</th>\n",
              "      <th>reordered</th>\n",
              "      <th>user_id</th>\n",
              "      <th>eval_set</th>\n",
              "      <th>order_number</th>\n",
              "      <th>order_dow</th>\n",
              "      <th>order_hour_of_day</th>\n",
              "      <th>days_since_prior_order</th>\n",
              "      <th>product_name</th>\n",
              "      <th>aisle_id</th>\n",
              "      <th>department_id</th>\n",
              "      <th>aisle_name</th>\n",
              "      <th>department_name</th>\n",
              "    </tr>\n",
              "  </thead>\n",
              "  <tbody>\n",
              "    <tr>\n",
              "      <th>0</th>\n",
              "      <td>2</td>\n",
              "      <td>33120</td>\n",
              "      <td>1</td>\n",
              "      <td>1</td>\n",
              "      <td>202279</td>\n",
              "      <td>prior</td>\n",
              "      <td>3</td>\n",
              "      <td>5</td>\n",
              "      <td>9</td>\n",
              "      <td>8</td>\n",
              "      <td>Organic Egg Whites</td>\n",
              "      <td>86</td>\n",
              "      <td>16</td>\n",
              "      <td>eggs</td>\n",
              "      <td>dairy eggs</td>\n",
              "    </tr>\n",
              "    <tr>\n",
              "      <th>1</th>\n",
              "      <td>2</td>\n",
              "      <td>28985</td>\n",
              "      <td>2</td>\n",
              "      <td>1</td>\n",
              "      <td>202279</td>\n",
              "      <td>prior</td>\n",
              "      <td>3</td>\n",
              "      <td>5</td>\n",
              "      <td>9</td>\n",
              "      <td>8</td>\n",
              "      <td>Michigan Organic Kale</td>\n",
              "      <td>83</td>\n",
              "      <td>4</td>\n",
              "      <td>fresh vegetables</td>\n",
              "      <td>produce</td>\n",
              "    </tr>\n",
              "    <tr>\n",
              "      <th>2</th>\n",
              "      <td>2</td>\n",
              "      <td>9327</td>\n",
              "      <td>3</td>\n",
              "      <td>0</td>\n",
              "      <td>202279</td>\n",
              "      <td>prior</td>\n",
              "      <td>3</td>\n",
              "      <td>5</td>\n",
              "      <td>9</td>\n",
              "      <td>8</td>\n",
              "      <td>Garlic Powder</td>\n",
              "      <td>104</td>\n",
              "      <td>13</td>\n",
              "      <td>spices seasonings</td>\n",
              "      <td>pantry</td>\n",
              "    </tr>\n",
              "    <tr>\n",
              "      <th>3</th>\n",
              "      <td>2</td>\n",
              "      <td>45918</td>\n",
              "      <td>4</td>\n",
              "      <td>1</td>\n",
              "      <td>202279</td>\n",
              "      <td>prior</td>\n",
              "      <td>3</td>\n",
              "      <td>5</td>\n",
              "      <td>9</td>\n",
              "      <td>8</td>\n",
              "      <td>Coconut Butter</td>\n",
              "      <td>19</td>\n",
              "      <td>13</td>\n",
              "      <td>oils vinegars</td>\n",
              "      <td>pantry</td>\n",
              "    </tr>\n",
              "    <tr>\n",
              "      <th>4</th>\n",
              "      <td>2</td>\n",
              "      <td>30035</td>\n",
              "      <td>5</td>\n",
              "      <td>0</td>\n",
              "      <td>202279</td>\n",
              "      <td>prior</td>\n",
              "      <td>3</td>\n",
              "      <td>5</td>\n",
              "      <td>9</td>\n",
              "      <td>8</td>\n",
              "      <td>Natural Sweetener</td>\n",
              "      <td>17</td>\n",
              "      <td>13</td>\n",
              "      <td>baking ingredients</td>\n",
              "      <td>pantry</td>\n",
              "    </tr>\n",
              "  </tbody>\n",
              "</table>\n",
              "</div>"
            ],
            "text/plain": [
              "   order_id  product_id  add_to_cart_order  reordered  user_id eval_set  \\\n",
              "0         2       33120                  1          1   202279    prior   \n",
              "1         2       28985                  2          1   202279    prior   \n",
              "2         2        9327                  3          0   202279    prior   \n",
              "3         2       45918                  4          1   202279    prior   \n",
              "4         2       30035                  5          0   202279    prior   \n",
              "\n",
              "   order_number  order_dow  order_hour_of_day  days_since_prior_order  \\\n",
              "0             3          5                  9                       8   \n",
              "1             3          5                  9                       8   \n",
              "2             3          5                  9                       8   \n",
              "3             3          5                  9                       8   \n",
              "4             3          5                  9                       8   \n",
              "\n",
              "            product_name  aisle_id  department_id          aisle_name  \\\n",
              "0     Organic Egg Whites        86             16                eggs   \n",
              "1  Michigan Organic Kale        83              4    fresh vegetables   \n",
              "2          Garlic Powder       104             13   spices seasonings   \n",
              "3         Coconut Butter        19             13       oils vinegars   \n",
              "4      Natural Sweetener        17             13  baking ingredients   \n",
              "\n",
              "  department_name  \n",
              "0      dairy eggs  \n",
              "1         produce  \n",
              "2          pantry  \n",
              "3          pantry  \n",
              "4          pantry  "
            ]
          },
          "execution_count": 24,
          "metadata": {},
          "output_type": "execute_result"
        }
      ],
      "source": [
        "prior.head()"
      ]
    },
    {
      "cell_type": "code",
      "execution_count": 45,
      "metadata": {
        "id": "oMy8KkNISNN1"
      },
      "outputs": [],
      "source": [
        "# USER-LEVEL FEATURES\n",
        "#Aggregate Behavior for Each User\n",
        "user_features = prior.groupby('user_id').agg({\n",
        "    'order_number': 'max',  # Total orders\n",
        "    'days_since_prior_order': ['mean', 'std'],  # Avg ordering cycle\n",
        "    'order_id': 'nunique'  # Unique orders\n",
        "}).reset_index()\n",
        "\n",
        "user_features.columns = ['user_id', 'total_orders', 'avg_days_between_orders', 'std_days_between_orders', 'unique_orders']"
      ]
    },
    {
      "cell_type": "code",
      "execution_count": 26,
      "metadata": {
        "id": "cskfaYwJSRg_"
      },
      "outputs": [],
      "source": [
        "#User reorder ratio\n",
        "reorders = prior.groupby('user_id')['reordered'].agg(['sum', 'count']).reset_index()\n",
        "reorders.columns = ['user_id', 'total_reordered', 'total_products']\n",
        "reorders['user_reorder_ratio'] = reorders['total_reordered'] / reorders['total_products']\n",
        "\n",
        "# Merge into user features\n",
        "user_features = user_features.merge(reorders[['user_id', 'user_reorder_ratio']], on='user_id')"
      ]
    },
    {
      "cell_type": "code",
      "execution_count": 27,
      "metadata": {
        "colab": {
          "base_uri": "https://localhost:8080/",
          "height": 206
        },
        "id": "ML1dZnBHSazp",
        "outputId": "fe598413-4891-4ccf-dcba-1ed03eadb97c"
      },
      "outputs": [
        {
          "data": {
            "text/html": [
              "<div>\n",
              "<style scoped>\n",
              "    .dataframe tbody tr th:only-of-type {\n",
              "        vertical-align: middle;\n",
              "    }\n",
              "\n",
              "    .dataframe tbody tr th {\n",
              "        vertical-align: top;\n",
              "    }\n",
              "\n",
              "    .dataframe thead th {\n",
              "        text-align: right;\n",
              "    }\n",
              "</style>\n",
              "<table border=\"1\" class=\"dataframe\">\n",
              "  <thead>\n",
              "    <tr style=\"text-align: right;\">\n",
              "      <th></th>\n",
              "      <th>user_id</th>\n",
              "      <th>total_orders</th>\n",
              "      <th>avg_days_between_orders</th>\n",
              "      <th>std_days_between_orders</th>\n",
              "      <th>unique_orders</th>\n",
              "      <th>user_reorder_ratio</th>\n",
              "    </tr>\n",
              "  </thead>\n",
              "  <tbody>\n",
              "    <tr>\n",
              "      <th>0</th>\n",
              "      <td>1</td>\n",
              "      <td>10</td>\n",
              "      <td>18.542373</td>\n",
              "      <td>10.559065</td>\n",
              "      <td>10</td>\n",
              "      <td>0.694915</td>\n",
              "    </tr>\n",
              "    <tr>\n",
              "      <th>1</th>\n",
              "      <td>2</td>\n",
              "      <td>14</td>\n",
              "      <td>14.902564</td>\n",
              "      <td>9.671712</td>\n",
              "      <td>14</td>\n",
              "      <td>0.476923</td>\n",
              "    </tr>\n",
              "    <tr>\n",
              "      <th>2</th>\n",
              "      <td>3</td>\n",
              "      <td>12</td>\n",
              "      <td>10.181818</td>\n",
              "      <td>5.867396</td>\n",
              "      <td>12</td>\n",
              "      <td>0.625000</td>\n",
              "    </tr>\n",
              "    <tr>\n",
              "      <th>3</th>\n",
              "      <td>4</td>\n",
              "      <td>5</td>\n",
              "      <td>11.944444</td>\n",
              "      <td>9.973330</td>\n",
              "      <td>5</td>\n",
              "      <td>0.055556</td>\n",
              "    </tr>\n",
              "    <tr>\n",
              "      <th>4</th>\n",
              "      <td>5</td>\n",
              "      <td>4</td>\n",
              "      <td>10.189189</td>\n",
              "      <td>7.600577</td>\n",
              "      <td>4</td>\n",
              "      <td>0.378378</td>\n",
              "    </tr>\n",
              "  </tbody>\n",
              "</table>\n",
              "</div>"
            ],
            "text/plain": [
              "   user_id  total_orders  avg_days_between_orders  std_days_between_orders  \\\n",
              "0        1            10                18.542373                10.559065   \n",
              "1        2            14                14.902564                 9.671712   \n",
              "2        3            12                10.181818                 5.867396   \n",
              "3        4             5                11.944444                 9.973330   \n",
              "4        5             4                10.189189                 7.600577   \n",
              "\n",
              "   unique_orders  user_reorder_ratio  \n",
              "0             10            0.694915  \n",
              "1             14            0.476923  \n",
              "2             12            0.625000  \n",
              "3              5            0.055556  \n",
              "4              4            0.378378  "
            ]
          },
          "execution_count": 27,
          "metadata": {},
          "output_type": "execute_result"
        }
      ],
      "source": [
        "user_features.head()"
      ]
    },
    {
      "cell_type": "code",
      "execution_count": 28,
      "metadata": {
        "id": "W0L8rtNfSmzf"
      },
      "outputs": [],
      "source": [
        "#PRODUCT-LEVEL FEATURES\n",
        "#Aggregate Behavior for Each User\n",
        "product_features = prior.groupby('product_id').agg({\n",
        "    'reordered': ['sum', 'count', 'mean'],\n",
        "    'add_to_cart_order': 'mean'\n",
        "}).reset_index()\n",
        "\n",
        "product_features.columns = ['product_id', 'total_reorders', 'total_orders', 'reorder_rate', 'avg_cart_position']"
      ]
    },
    {
      "cell_type": "code",
      "execution_count": 29,
      "metadata": {
        "id": "SsbnF9-cS7wZ"
      },
      "outputs": [],
      "source": [
        "#USER-PRODUCT INTERACTION FEATURES\n",
        "#Reordering the same product frequency\n",
        "user_product = prior.groupby(['user_id', 'product_id']).agg({\n",
        "    'order_id': 'count',  # times product was purchased\n",
        "    'add_to_cart_order': 'mean',\n",
        "    'order_number': ['min', 'max']\n",
        "}).reset_index()\n",
        "\n",
        "user_product.columns = ['user_id', 'product_id', 'up_order_count', 'up_avg_cart_position', 'up_first_order_num', 'up_last_order_num']"
      ]
    },
    {
      "cell_type": "code",
      "execution_count": 30,
      "metadata": {
        "id": "YXJlfG77TFy5"
      },
      "outputs": [],
      "source": [
        "#Add reordering flags\n",
        "up_reorders = prior.groupby(['user_id', 'product_id'])['reordered'].sum().reset_index()\n",
        "up_reorders.columns = ['user_id', 'product_id', 'up_reorder_total']\n",
        "\n",
        "user_product = user_product.merge(up_reorders, on=['user_id', 'product_id'], how='left')\n",
        "user_product['up_reorder_ratio'] = user_product['up_reorder_total'] / user_product['up_order_count']"
      ]
    },
    {
      "cell_type": "code",
      "execution_count": 31,
      "metadata": {
        "id": "HK4rH74aTMoK"
      },
      "outputs": [],
      "source": [
        "#Final Feature Assembly for Train Set\n",
        "# Get the latest order for each user in the train set\n",
        "train_orders = orders[orders['eval_set'] == 'train'][['user_id', 'order_id']]\n",
        "\n",
        "# Merge user_id + product_id features with latest train order\n",
        "train_data = train_orders.merge(user_product, on='user_id')\n",
        "train_data = train_data.merge(user_features, on='user_id')\n",
        "train_data = train_data.merge(product_features, on='product_id')"
      ]
    },
    {
      "cell_type": "code",
      "execution_count": 32,
      "metadata": {
        "id": "zAN6aeAWUEGP"
      },
      "outputs": [],
      "source": [
        "# Add target variable: whether the product was reordered in this train order\n",
        "labels = order_products_train[['order_id', 'product_id', 'reordered']]\n",
        "train_data = train_data.merge(labels, on=['order_id', 'product_id'], how='left')\n",
        "train_data['reordered'] = train_data['reordered'].fillna(0).astype(np.int8)"
      ]
    },
    {
      "cell_type": "code",
      "execution_count": 33,
      "metadata": {},
      "outputs": [],
      "source": [
        "#train_data.to_csv('C:\\\\Users\\\\princ\\\\Downloads\\\\Demand Sensing\\\\Instacart_dataset\\\\instacart_train_features.csv', index=False)"
      ]
    },
    {
      "cell_type": "markdown",
      "metadata": {
        "id": "YMLWgxwzVCfW"
      },
      "source": [
        "Step 6: Modeling with Undersampling"
      ]
    },
    {
      "cell_type": "code",
      "execution_count": 34,
      "metadata": {
        "id": "M5M8vP_NVGNs"
      },
      "outputs": [],
      "source": [
        "# Load engineered features dataset\n",
        "df = pd.read_csv(\"C:\\\\Users\\\\princ\\\\Downloads\\\\Demand Sensing\\\\Instacart_dataset\\\\instacart_train_features.csv\")\n",
        "\n",
        "# Prepare features and target\n",
        "X = df.drop(columns=['order_id', 'user_id', 'product_id', 'reordered'])\n",
        "y = df['reordered']"
      ]
    },
    {
      "cell_type": "code",
      "execution_count": 35,
      "metadata": {
        "colab": {
          "base_uri": "https://localhost:8080/",
          "height": 226
        },
        "id": "uh-LHNXbVN6H",
        "outputId": "003dbf81-57d0-466d-fcef-8f639851c429"
      },
      "outputs": [
        {
          "data": {
            "text/html": [
              "<div>\n",
              "<style scoped>\n",
              "    .dataframe tbody tr th:only-of-type {\n",
              "        vertical-align: middle;\n",
              "    }\n",
              "\n",
              "    .dataframe tbody tr th {\n",
              "        vertical-align: top;\n",
              "    }\n",
              "\n",
              "    .dataframe thead th {\n",
              "        text-align: right;\n",
              "    }\n",
              "</style>\n",
              "<table border=\"1\" class=\"dataframe\">\n",
              "  <thead>\n",
              "    <tr style=\"text-align: right;\">\n",
              "      <th></th>\n",
              "      <th>user_id</th>\n",
              "      <th>order_id</th>\n",
              "      <th>product_id</th>\n",
              "      <th>up_order_count</th>\n",
              "      <th>up_avg_cart_position</th>\n",
              "      <th>up_first_order_num</th>\n",
              "      <th>up_last_order_num</th>\n",
              "      <th>up_reorder_total</th>\n",
              "      <th>up_reorder_ratio</th>\n",
              "      <th>total_orders_x</th>\n",
              "      <th>avg_days_between_orders</th>\n",
              "      <th>std_days_between_orders</th>\n",
              "      <th>unique_orders</th>\n",
              "      <th>user_reorder_ratio</th>\n",
              "      <th>total_reorders</th>\n",
              "      <th>total_orders_y</th>\n",
              "      <th>reorder_rate</th>\n",
              "      <th>avg_cart_position</th>\n",
              "      <th>reordered</th>\n",
              "    </tr>\n",
              "  </thead>\n",
              "  <tbody>\n",
              "    <tr>\n",
              "      <th>0</th>\n",
              "      <td>1</td>\n",
              "      <td>1187899</td>\n",
              "      <td>196</td>\n",
              "      <td>10</td>\n",
              "      <td>1.400000</td>\n",
              "      <td>1</td>\n",
              "      <td>10</td>\n",
              "      <td>9</td>\n",
              "      <td>0.900000</td>\n",
              "      <td>10</td>\n",
              "      <td>18.542373</td>\n",
              "      <td>10.559065</td>\n",
              "      <td>10</td>\n",
              "      <td>0.694915</td>\n",
              "      <td>27791.0</td>\n",
              "      <td>35791</td>\n",
              "      <td>0.77648</td>\n",
              "      <td>3.721774</td>\n",
              "      <td>1</td>\n",
              "    </tr>\n",
              "    <tr>\n",
              "      <th>1</th>\n",
              "      <td>21</td>\n",
              "      <td>1854765</td>\n",
              "      <td>196</td>\n",
              "      <td>1</td>\n",
              "      <td>2.000000</td>\n",
              "      <td>10</td>\n",
              "      <td>10</td>\n",
              "      <td>0</td>\n",
              "      <td>0.000000</td>\n",
              "      <td>33</td>\n",
              "      <td>9.809756</td>\n",
              "      <td>7.389573</td>\n",
              "      <td>33</td>\n",
              "      <td>0.502439</td>\n",
              "      <td>27791.0</td>\n",
              "      <td>35791</td>\n",
              "      <td>0.77648</td>\n",
              "      <td>3.721774</td>\n",
              "      <td>0</td>\n",
              "    </tr>\n",
              "    <tr>\n",
              "      <th>2</th>\n",
              "      <td>43</td>\n",
              "      <td>1864787</td>\n",
              "      <td>196</td>\n",
              "      <td>2</td>\n",
              "      <td>5.000000</td>\n",
              "      <td>6</td>\n",
              "      <td>9</td>\n",
              "      <td>1</td>\n",
              "      <td>0.500000</td>\n",
              "      <td>11</td>\n",
              "      <td>10.190476</td>\n",
              "      <td>6.075251</td>\n",
              "      <td>11</td>\n",
              "      <td>0.401361</td>\n",
              "      <td>27791.0</td>\n",
              "      <td>35791</td>\n",
              "      <td>0.77648</td>\n",
              "      <td>3.721774</td>\n",
              "      <td>0</td>\n",
              "    </tr>\n",
              "    <tr>\n",
              "      <th>3</th>\n",
              "      <td>52</td>\n",
              "      <td>1647290</td>\n",
              "      <td>196</td>\n",
              "      <td>14</td>\n",
              "      <td>4.285714</td>\n",
              "      <td>1</td>\n",
              "      <td>21</td>\n",
              "      <td>13</td>\n",
              "      <td>0.928571</td>\n",
              "      <td>27</td>\n",
              "      <td>8.810651</td>\n",
              "      <td>4.918346</td>\n",
              "      <td>27</td>\n",
              "      <td>0.698225</td>\n",
              "      <td>27791.0</td>\n",
              "      <td>35791</td>\n",
              "      <td>0.77648</td>\n",
              "      <td>3.721774</td>\n",
              "      <td>0</td>\n",
              "    </tr>\n",
              "    <tr>\n",
              "      <th>4</th>\n",
              "      <td>67</td>\n",
              "      <td>2757217</td>\n",
              "      <td>196</td>\n",
              "      <td>19</td>\n",
              "      <td>1.421053</td>\n",
              "      <td>1</td>\n",
              "      <td>23</td>\n",
              "      <td>18</td>\n",
              "      <td>0.947368</td>\n",
              "      <td>24</td>\n",
              "      <td>7.333333</td>\n",
              "      <td>3.748333</td>\n",
              "      <td>24</td>\n",
              "      <td>0.716049</td>\n",
              "      <td>27791.0</td>\n",
              "      <td>35791</td>\n",
              "      <td>0.77648</td>\n",
              "      <td>3.721774</td>\n",
              "      <td>1</td>\n",
              "    </tr>\n",
              "  </tbody>\n",
              "</table>\n",
              "</div>"
            ],
            "text/plain": [
              "   user_id  order_id  product_id  up_order_count  up_avg_cart_position  \\\n",
              "0        1   1187899         196              10              1.400000   \n",
              "1       21   1854765         196               1              2.000000   \n",
              "2       43   1864787         196               2              5.000000   \n",
              "3       52   1647290         196              14              4.285714   \n",
              "4       67   2757217         196              19              1.421053   \n",
              "\n",
              "   up_first_order_num  up_last_order_num  up_reorder_total  up_reorder_ratio  \\\n",
              "0                   1                 10                 9          0.900000   \n",
              "1                  10                 10                 0          0.000000   \n",
              "2                   6                  9                 1          0.500000   \n",
              "3                   1                 21                13          0.928571   \n",
              "4                   1                 23                18          0.947368   \n",
              "\n",
              "   total_orders_x  avg_days_between_orders  std_days_between_orders  \\\n",
              "0              10                18.542373                10.559065   \n",
              "1              33                 9.809756                 7.389573   \n",
              "2              11                10.190476                 6.075251   \n",
              "3              27                 8.810651                 4.918346   \n",
              "4              24                 7.333333                 3.748333   \n",
              "\n",
              "   unique_orders  user_reorder_ratio  total_reorders  total_orders_y  \\\n",
              "0             10            0.694915         27791.0           35791   \n",
              "1             33            0.502439         27791.0           35791   \n",
              "2             11            0.401361         27791.0           35791   \n",
              "3             27            0.698225         27791.0           35791   \n",
              "4             24            0.716049         27791.0           35791   \n",
              "\n",
              "   reorder_rate  avg_cart_position  reordered  \n",
              "0       0.77648           3.721774          1  \n",
              "1       0.77648           3.721774          0  \n",
              "2       0.77648           3.721774          0  \n",
              "3       0.77648           3.721774          0  \n",
              "4       0.77648           3.721774          1  "
            ]
          },
          "execution_count": 35,
          "metadata": {},
          "output_type": "execute_result"
        }
      ],
      "source": [
        "df.head()"
      ]
    },
    {
      "cell_type": "code",
      "execution_count": 36,
      "metadata": {
        "id": "SOGcWxIiWgqB"
      },
      "outputs": [],
      "source": [
        "# Combine X and y for resampling\n",
        "data = pd.concat([X, y], axis=1)"
      ]
    },
    {
      "cell_type": "code",
      "execution_count": 37,
      "metadata": {
        "id": "3h-ERwDLWlVD"
      },
      "outputs": [],
      "source": [
        "# Separate minority and majority classes\n",
        "minority = data[data['reordered'] == 1]\n",
        "majority = data[data['reordered'] == 0]"
      ]
    },
    {
      "cell_type": "code",
      "execution_count": 38,
      "metadata": {
        "id": "BAUtSA0BWoja"
      },
      "outputs": [],
      "source": [
        "# Undersample majority class\n",
        "majority_downsampled = resample(majority,\n",
        "                                replace=False,\n",
        "                                n_samples=len(minority),\n",
        "                                random_state=42)\n"
      ]
    },
    {
      "cell_type": "code",
      "execution_count": 39,
      "metadata": {
        "id": "QtpLUdnFWr-f"
      },
      "outputs": [],
      "source": [
        "# Create balanced dataset\n",
        "balanced_data = pd.concat([majority_downsampled, minority]).sample(frac=1, random_state=42).reset_index(drop=True)"
      ]
    },
    {
      "cell_type": "code",
      "execution_count": 40,
      "metadata": {
        "id": "QIXhRAqBWs1s"
      },
      "outputs": [],
      "source": [
        "# Split into features and labels\n",
        "X_balanced = balanced_data.drop('reordered', axis=1)\n",
        "y_balanced = balanced_data['reordered']"
      ]
    },
    {
      "cell_type": "code",
      "execution_count": 41,
      "metadata": {
        "id": "F8MU6TdEWu9u"
      },
      "outputs": [],
      "source": [
        "# Train-test split\n",
        "X_train, X_test, y_train, y_test = train_test_split(X_balanced, y_balanced, test_size=0.3, random_state=42)"
      ]
    },
    {
      "cell_type": "code",
      "execution_count": 42,
      "metadata": {
        "id": "_IBbMvKuWwoJ"
      },
      "outputs": [],
      "source": [
        "# Base Models\n",
        "rf = RandomForestClassifier(n_estimators=100, random_state=42)\n",
        "xgb = XGBClassifier(use_label_encoder=False, eval_metric='logloss', random_state=42)\n",
        "lr = LogisticRegression(max_iter=500, random_state=42)"
      ]
    },
    {
      "cell_type": "code",
      "execution_count": 92,
      "metadata": {
        "colab": {
          "base_uri": "https://localhost:8080/"
        },
        "id": "RfPhI6hdW0GU",
        "outputId": "f4fa4620-e533-4c00-8e5c-6505e9a1d20f"
      },
      "outputs": [
        {
          "name": "stdout",
          "output_type": "stream",
          "text": [
            "Random Forest Classification Report:\n",
            "              precision    recall  f1-score   support\n",
            "\n",
            "           0       0.74      0.75      0.75    248741\n",
            "           1       0.75      0.74      0.74    248554\n",
            "\n",
            "    accuracy                           0.75    497295\n",
            "   macro avg       0.75      0.75      0.75    497295\n",
            "weighted avg       0.75      0.75      0.75    497295\n",
            "\n",
            "Random Forest ROC AUC: 0.8220\n",
            "\n"
          ]
        }
      ],
      "source": [
        "# Train and evaluate Random Forest\n",
        "rf.fit(X_train, y_train)\n",
        "rf_preds = rf.predict(X_test)\n",
        "print(\"Random Forest Classification Report:\")\n",
        "print(classification_report(y_test, rf_preds))\n",
        "print(f\"Random Forest ROC AUC: {roc_auc_score(y_test, rf.predict_proba(X_test)[:,1]):.4f}\\n\")"
      ]
    },
    {
      "cell_type": "code",
      "execution_count": 93,
      "metadata": {
        "colab": {
          "base_uri": "https://localhost:8080/"
        },
        "id": "AvJPJsT9W3VD",
        "outputId": "fd3de1c5-3fc9-46dc-f60a-7e0d01c8217d"
      },
      "outputs": [
        {
          "name": "stdout",
          "output_type": "stream",
          "text": [
            "XGBoost Classification Report:\n",
            "              precision    recall  f1-score   support\n",
            "\n",
            "           0       0.75      0.75      0.75    248741\n",
            "           1       0.75      0.76      0.75    248554\n",
            "\n",
            "    accuracy                           0.75    497295\n",
            "   macro avg       0.75      0.75      0.75    497295\n",
            "weighted avg       0.75      0.75      0.75    497295\n",
            "\n",
            "XGBoost ROC AUC: 0.8291\n",
            "\n"
          ]
        }
      ],
      "source": [
        "# Train and evaluate XGBoost\n",
        "xgb.fit(X_train, y_train)\n",
        "xgb_preds = xgb.predict(X_test)\n",
        "print(\"XGBoost Classification Report:\")\n",
        "print(classification_report(y_test, xgb_preds))\n",
        "print(f\"XGBoost ROC AUC: {roc_auc_score(y_test, xgb.predict_proba(X_test)[:,1]):.4f}\\n\")"
      ]
    },
    {
      "cell_type": "code",
      "execution_count": 94,
      "metadata": {
        "colab": {
          "base_uri": "https://localhost:8080/"
        },
        "id": "xeXw_DUVW7VE",
        "outputId": "e1fe4128-2399-4545-85ac-979abcad431e"
      },
      "outputs": [
        {
          "name": "stdout",
          "output_type": "stream",
          "text": [
            "Logistic Regression Classification Report:\n",
            "              precision    recall  f1-score   support\n",
            "\n",
            "           0       0.75      0.71      0.73    248741\n",
            "           1       0.73      0.76      0.74    248554\n",
            "\n",
            "    accuracy                           0.74    497295\n",
            "   macro avg       0.74      0.74      0.74    497295\n",
            "weighted avg       0.74      0.74      0.74    497295\n",
            "\n",
            "Logistic Regression ROC AUC: 0.8102\n",
            "\n"
          ]
        }
      ],
      "source": [
        "# Train and evaluate Logistic Regression\n",
        "lr.fit(X_train, y_train)\n",
        "lr_preds = lr.predict(X_test)\n",
        "print(\"Logistic Regression Classification Report:\")\n",
        "print(classification_report(y_test, lr_preds))\n",
        "print(f\"Logistic Regression ROC AUC: {roc_auc_score(y_test, lr.predict_proba(X_test)[:,1]):.4f}\\n\")"
      ]
    },
    {
      "cell_type": "markdown",
      "metadata": {
        "id": "xm-y8g99Y4Mk"
      },
      "source": [
        "Hyperparameter Tuning"
      ]
    },
    {
      "cell_type": "code",
      "execution_count": 95,
      "metadata": {
        "id": "f3QLLyydaMSl"
      },
      "outputs": [
        {
          "name": "stdout",
          "output_type": "stream",
          "text": [
            "Fitting 3 folds for each of 20 candidates, totalling 60 fits\n",
            "Best XGBoost params: {'subsample': 0.7, 'n_estimators': 300, 'max_depth': 6, 'learning_rate': 0.1, 'gamma': 5, 'colsample_bytree': 0.6}\n",
            "Best XGBoost CV F1 score: 0.7523\n",
            "XGBoost Classification Report:\n",
            "              precision    recall  f1-score   support\n",
            "\n",
            "           0       0.75      0.75      0.75    248741\n",
            "           1       0.75      0.76      0.75    248554\n",
            "\n",
            "    accuracy                           0.75    497295\n",
            "   macro avg       0.75      0.75      0.75    497295\n",
            "weighted avg       0.75      0.75      0.75    497295\n",
            "\n"
          ]
        }
      ],
      "source": [
        "# Define hyperparameter grid\n",
        "xgb_param_grid = {\n",
        "    'n_estimators': [100, 200, 300],\n",
        "    'max_depth': [3, 6, 10],\n",
        "    'learning_rate': [0.01, 0.1, 0.2],\n",
        "    'subsample': [0.7, 0.8, 1.0],\n",
        "    'colsample_bytree': [0.6, 0.8, 1.0],\n",
        "    'gamma': [0, 1, 5]\n",
        "}\n",
        "\n",
        "xgb_tune = RandomizedSearchCV(\n",
        "    estimator=XGBClassifier(eval_metric='logloss', use_label_encoder=False, random_state=42),\n",
        "    param_distributions=xgb_param_grid,\n",
        "    n_iter=20,\n",
        "    cv=3,\n",
        "    scoring='f1',\n",
        "    verbose=2,\n",
        "    n_jobs=-1,\n",
        "    random_state=42\n",
        ")\n",
        "\n",
        "xgb_tune.fit(X_train, y_train)\n",
        "print(\"Best XGBoost params:\", xgb_tune.best_params_)\n",
        "print(f\"Best XGBoost CV F1 score: {xgb_tune.best_score_:.4f}\")\n",
        "\n",
        "# Evaluate best model\n",
        "best_xgb = xgb_tune.best_estimator_\n",
        "xgb_preds = best_xgb.predict(X_test)\n",
        "print(\"XGBoost Classification Report:\")\n",
        "print(classification_report(y_test, xgb_preds))"
      ]
    },
    {
      "cell_type": "code",
      "execution_count": 97,
      "metadata": {
        "id": "tAgToHAya3o2"
      },
      "outputs": [
        {
          "name": "stdout",
          "output_type": "stream",
          "text": [
            "Fitting 3 folds for each of 10 candidates, totalling 30 fits\n",
            "Best Logistic Regression params: {'solver': 'liblinear', 'penalty': 'l2', 'C': 0.01}\n",
            "Best Logistic Regression CV F1 score: 0.7458\n",
            "Logistic Regression Classification Report:\n",
            "              precision    recall  f1-score   support\n",
            "\n",
            "           0       0.75      0.71      0.73    248741\n",
            "           1       0.72      0.76      0.74    248554\n",
            "\n",
            "    accuracy                           0.74    497295\n",
            "   macro avg       0.74      0.74      0.74    497295\n",
            "weighted avg       0.74      0.74      0.74    497295\n",
            "\n"
          ]
        }
      ],
      "source": [
        "# Define grid for logistic regression (limited options)\n",
        "lr_param_grid = {\n",
        "    'C': [0.001, 0.01, 0.1, 1.0, 10],\n",
        "    'penalty': ['l2'],\n",
        "    'solver': ['liblinear', 'saga']\n",
        "}\n",
        "\n",
        "lr_tune = RandomizedSearchCV(\n",
        "    estimator=LogisticRegression(max_iter=500, random_state=42),\n",
        "    param_distributions=lr_param_grid,\n",
        "    n_iter=10,\n",
        "    cv=3,\n",
        "    scoring='f1',\n",
        "    verbose=2,\n",
        "    n_jobs=-1,\n",
        "    random_state=42\n",
        ")\n",
        "\n",
        "lr_tune.fit(X_train, y_train)\n",
        "print(\"Best Logistic Regression params:\", lr_tune.best_params_)\n",
        "print(f\"Best Logistic Regression CV F1 score: {lr_tune.best_score_:.4f}\")\n",
        "\n",
        "# Evaluate best model\n",
        "best_lr = lr_tune.best_estimator_\n",
        "lr_preds = best_lr.predict(X_test)\n",
        "print(\"Logistic Regression Classification Report:\")\n",
        "print(classification_report(y_test, lr_preds))"
      ]
    },
    {
      "cell_type": "markdown",
      "metadata": {
        "id": "53CGbafybD7s"
      },
      "source": [
        "Step 7: Result Comparison & Visualization"
      ]
    },
    {
      "cell_type": "code",
      "execution_count": 99,
      "metadata": {
        "id": "Ha5Y69z3bCFo"
      },
      "outputs": [
        {
          "data": {
            "image/png": "[encoded data removed]",
            "text/plain": [
              "<Figure size 1080x288 with 2 Axes>"
            ]
          },
          "metadata": {
            "needs_background": "light"
          },
          "output_type": "display_data"
        },
        {
          "data": {
            "image/png": "[encoded data removed]",
            "text/plain": [
              "<Figure size 576x432 with 1 Axes>"
            ]
          },
          "metadata": {
            "needs_background": "light"
          },
          "output_type": "display_data"
        },
        {
          "data": {
            "text/html": [
              "<div>\n",
              "<style scoped>\n",
              "    .dataframe tbody tr th:only-of-type {\n",
              "        vertical-align: middle;\n",
              "    }\n",
              "\n",
              "    .dataframe tbody tr th {\n",
              "        vertical-align: top;\n",
              "    }\n",
              "\n",
              "    .dataframe thead th {\n",
              "        text-align: right;\n",
              "    }\n",
              "</style>\n",
              "<table border=\"1\" class=\"dataframe\">\n",
              "  <thead>\n",
              "    <tr style=\"text-align: right;\">\n",
              "      <th></th>\n",
              "      <th>Model</th>\n",
              "      <th>Precision</th>\n",
              "      <th>Recall</th>\n",
              "      <th>F1 Score</th>\n",
              "      <th>ROC AUC</th>\n",
              "    </tr>\n",
              "  </thead>\n",
              "  <tbody>\n",
              "    <tr>\n",
              "      <th>0</th>\n",
              "      <td>XGBoost</td>\n",
              "      <td>0.748</td>\n",
              "      <td>0.757</td>\n",
              "      <td>0.752</td>\n",
              "      <td>0.83</td>\n",
              "    </tr>\n",
              "    <tr>\n",
              "      <th>1</th>\n",
              "      <td>Logistic Regression</td>\n",
              "      <td>0.724</td>\n",
              "      <td>0.764</td>\n",
              "      <td>0.744</td>\n",
              "      <td>0.81</td>\n",
              "    </tr>\n",
              "  </tbody>\n",
              "</table>\n",
              "</div>"
            ],
            "text/plain": [
              "                 Model  Precision  Recall  F1 Score  ROC AUC\n",
              "0              XGBoost      0.748   0.757     0.752     0.83\n",
              "1  Logistic Regression      0.724   0.764     0.744     0.81"
            ]
          },
          "metadata": {},
          "output_type": "display_data"
        }
      ],
      "source": [
        "# Model dictionary\n",
        "models = {\n",
        "    \"XGBoost\": best_xgb,\n",
        "    \"Logistic Regression\": best_lr\n",
        "}\n",
        "\n",
        "# Store metrics for comparison\n",
        "model_metrics = []\n",
        "\n",
        "# Plot Confusion Matrices\n",
        "plt.figure(figsize=(15, 4))\n",
        "for i, (name, model) in enumerate(models.items()):\n",
        "    preds = model.predict(X_test)\n",
        "    cm = confusion_matrix(y_test, preds)\n",
        "    plt.subplot(1, 3, i + 1)\n",
        "    sns.heatmap(cm, annot=True, fmt='d', cmap='Blues', cbar=False)\n",
        "    plt.title(f'{name} Confusion Matrix')\n",
        "    plt.xlabel('Predicted')\n",
        "    plt.ylabel('Actual')\n",
        "\n",
        "plt.tight_layout()\n",
        "plt.show()\n",
        "\n",
        "# Plot ROC Curves\n",
        "plt.figure(figsize=(8, 6))\n",
        "for name, model in models.items():\n",
        "    y_probs = model.predict_proba(X_test)[:, 1]\n",
        "    fpr, tpr, _ = roc_curve(y_test, y_probs)\n",
        "    auc_score = auc(fpr, tpr)\n",
        "    plt.plot(fpr, tpr, label=f'{name} (AUC = {auc_score:.3f})')\n",
        "\n",
        "plt.plot([0, 1], [0, 1], 'k--')\n",
        "plt.title('ROC Curve Comparison')\n",
        "plt.xlabel('False Positive Rate')\n",
        "plt.ylabel('True Positive Rate')\n",
        "plt.legend(loc='lower right')\n",
        "plt.grid(True)\n",
        "plt.tight_layout()\n",
        "plt.show()\n",
        "\n",
        "# Collect and print model comparison metrics\n",
        "for name, model in models.items():\n",
        "    preds = model.predict(X_test)\n",
        "    probs = model.predict_proba(X_test)[:, 1]\n",
        "    precision = precision_score(y_test, preds)\n",
        "    recall = recall_score(y_test, preds)\n",
        "    f1 = f1_score(y_test, preds)\n",
        "    auc_score = roc_auc_score(y_test, probs)\n",
        "\n",
        "    model_metrics.append({\n",
        "        'Model': name,\n",
        "        'Precision': round(precision, 3),\n",
        "        'Recall': round(recall, 3),\n",
        "        'F1 Score': round(f1, 3),\n",
        "        'ROC AUC': round(auc_score, 3)\n",
        "    })\n",
        "\n",
        "# Display as DataFrame\n",
        "metrics_df = pd.DataFrame(model_metrics)\n",
        "display(metrics_df.sort_values(by='F1 Score', ascending=False))"
      ]
    },
    {
      "cell_type": "markdown",
      "metadata": {
        "id": "E3JINcenn6r4"
      },
      "source": [
        "Customer Segmentation"
      ]
    },
    {
      "cell_type": "code",
      "execution_count": 48,
      "metadata": {},
      "outputs": [],
      "source": [
        "prior_merged = order_products_prior.merge(orders, on='order_id', how='left')"
      ]
    },
    {
      "cell_type": "code",
      "execution_count": 49,
      "metadata": {
        "id": "_ka_DIqbn6GK"
      },
      "outputs": [],
      "source": [
        "user_features = prior_merged.groupby('user_id').agg({\n",
        "    'order_number': 'max',\n",
        "    'days_since_prior_order': 'mean',\n",
        "    'reordered': 'mean',\n",
        "    'product_id': 'nunique'\n",
        "}).rename(columns={\n",
        "    'order_number': 'total_orders',\n",
        "    'days_since_prior_order': 'avg_days_between_orders',\n",
        "    'reordered': 'reorder_ratio',\n",
        "    'product_id': 'unique_products_ordered'\n",
        "}).reset_index()"
      ]
    },
    {
      "cell_type": "code",
      "execution_count": 50,
      "metadata": {
        "id": "NURPWHpcn-cX"
      },
      "outputs": [],
      "source": [
        "# Drop user_id for clustering\n",
        "features = user_features.drop('user_id', axis=1)\n",
        "\n",
        "# Standardize\n",
        "scaler = StandardScaler()\n",
        "X_scaled = scaler.fit_transform(features)"
      ]
    },
    {
      "cell_type": "code",
      "execution_count": 51,
      "metadata": {
        "id": "_qWTbuIcoCD7"
      },
      "outputs": [
        {
          "data": {
            "image/png": "[encoded data removed]",
            "text/plain": [
              "<Figure size 432x288 with 1 Axes>"
            ]
          },
          "metadata": {
            "needs_background": "light"
          },
          "output_type": "display_data"
        }
      ],
      "source": [
        "# Use elbow method to decide k\n",
        "sse = []\n",
        "for k in range(2, 10):\n",
        "    kmeans = KMeans(n_clusters=k, random_state=42)\n",
        "    kmeans.fit(X_scaled)\n",
        "    sse.append(kmeans.inertia_)\n",
        "\n",
        "plt.plot(range(2, 10), sse, marker='o')\n",
        "plt.title('Elbow Method for Optimal k')\n",
        "plt.xlabel('Number of clusters')\n",
        "plt.ylabel('SSE')\n",
        "plt.show()\n",
        "\n",
        "# Fit KMeans with chosen k (say k=4)\n",
        "kmeans = KMeans(n_clusters=4, random_state=42)\n",
        "user_features['segment'] = kmeans.fit_predict(X_scaled)"
      ]
    },
    {
      "cell_type": "code",
      "execution_count": 52,
      "metadata": {
        "id": "eYYlZW8EoDsv"
      },
      "outputs": [
        {
          "data": {
            "image/png": "[encoded data removed]",
            "text/plain": [
              "<Figure size 576x432 with 2 Axes>"
            ]
          },
          "metadata": {
            "needs_background": "light"
          },
          "output_type": "display_data"
        }
      ],
      "source": [
        "pca = PCA(n_components=2)\n",
        "X_pca = pca.fit_transform(X_scaled)\n",
        "\n",
        "plt.figure(figsize=(8,6))\n",
        "plt.scatter(X_pca[:, 0], X_pca[:, 1], c=user_features['segment'], cmap='tab10', alpha=0.6)\n",
        "plt.title('Customer Segments (PCA projection)')\n",
        "plt.xlabel('PC1')\n",
        "plt.ylabel('PC2')\n",
        "plt.colorbar(label='Segment')\n",
        "plt.grid(True)\n",
        "plt.show()"
      ]
    }
  ],
  "metadata": {
    "accelerator": "GPU",
    "colab": {
      "gpuType": "T4",
      "provenance": []
    },
    "kernelspec": {
      "display_name": "Python 3.10.7 64-bit",
      "language": "python",
      "name": "python3"
    },
    "language_info": {
      "codemirror_mode": {
        "name": "ipython",
        "version": 3
      },
      "file_extension": ".py",
      "mimetype": "text/x-python",
      "name": "python",
      "nbconvert_exporter": "python",
      "pygments_lexer": "ipython3",
      "version": "3.10.7"
    },
    "vscode": {
      "interpreter": {
        "hash": "903486234ce65b97170d86bc9f6e84bfd559de3b3186ddc5cd2fa191134c23a5"
      }
    }
  },
  "nbformat": 4,
  "nbformat_minor": 0
}
